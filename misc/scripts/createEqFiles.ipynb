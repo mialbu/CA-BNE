{
 "cells": [
  {
   "cell_type": "code",
   "execution_count": 1,
   "metadata": {},
   "outputs": [],
   "source": [
    "#!/usr/bin/python3\n",
    "\n",
    "import os\n",
    "import sys\n",
    "import glob\n",
    "import re\n",
    "import math\n",
    "\n",
    "import matplotlib as mpl\n",
    "\n",
    "from mpl_toolkits.mplot3d import Axes3D\n",
    "import numpy as np\n",
    "import matplotlib.pyplot as plt\n",
    "import matplotlib.animation as anim\n",
    "\n",
    "import itertools\n",
    "import time"
   ]
  },
  {
   "cell_type": "code",
   "execution_count": 9,
   "metadata": {},
   "outputs": [
    {
     "name": "stdout",
     "output_type": "stream",
     "text": [
      "678\n",
      "[0, 4, 6, 7, 8, 10, 11, 14, 25, 27, 28, 30, 31, 34, 36, 37, 39, 47, 53, 55, 65, 68, 71, 72, 76, 83, 85, 90, 92, 96, 98, 100, 101, 102, 104, 105, 108, 111, 121, 122, 123, 131, 133, 134, 140, 143, 144, 147, 150, 155, 160, 161, 163, 167, 170, 176, 178, 181, 185, 186, 188, 189, 192, 193, 194, 196, 203, 204, 206, 208, 216, 218, 224, 225, 229, 234, 239, 245, 252, 257, 258, 261, 268, 270, 273, 276, 278, 279, 282, 285, 291, 293, 296, 301, 303, 305, 306, 307, 312, 316, 318, 328, 330, 334, 335, 347, 352, 355, 359, 361, 363, 364, 370, 372, 377, 378, 384, 385, 386, 388, 389, 395, 398, 400, 402, 404, 405, 406, 408, 412, 414, 415, 416, 419, 420, 421, 424, 427, 430, 431, 435, 436, 437, 438, 447, 450, 451, 453, 456, 468, 469, 472, 473, 478, 479, 480, 481, 487, 493, 494, 496, 498, 500, 501, 509, 513, 518, 520, 523, 525, 531, 536, 537, 544, 545, 546, 547, 550, 552, 553, 554, 557, 560, 564, 573, 574, 576, 578, 581, 587, 592, 593, 595, 597, 598, 601, 607, 608, 611, 613, 618, 623, 625, 626, 634, 635, 640, 643, 644, 646, 647, 648, 650, 652, 655, 657, 658, 660, 662, 664, 668, 669, 673, 675, 682, 686, 687, 688, 690, 691, 693, 694, 702, 710, 712, 717, 720, 723, 726, 727, 728, 729, 734, 735, 736, 737, 738, 743, 751, 752, 761, 763, 769, 777, 779, 781, 783, 784, 785, 786, 787, 789, 791, 803, 807, 808, 811, 816, 818, 821, 828, 833, 835, 836, 837, 838, 846, 847, 859, 860, 862, 864, 867, 873, 877, 878, 880, 882, 884, 887, 890, 891, 893, 895, 899, 900, 901, 902, 904, 911, 914, 922, 924, 926, 928, 930, 935, 937, 939, 943, 947, 948, 953, 957, 960, 961, 977, 978, 980, 985, 989, 993]\n"
     ]
    }
   ],
   "source": [
    "#get all runs where the auction did not converge\n",
    "folder = \"jan03start15bidders/\"\n",
    "file = 0\n",
    "nr_conv=0\n",
    "notConverged = []\n",
    "for i in range(1000):\n",
    "    if i<10:\n",
    "        pre=\"00\"+str(i)\n",
    "    elif i<100:\n",
    "        pre=\"0\"+str(i)\n",
    "    else:\n",
    "        pre=str(i)\n",
    "        \n",
    "    with open(folder + \"%s.log\" % pre) as fd:\n",
    "        #for s in fd.readlines():\n",
    "            #print(s.rstrip())\n",
    "        fd.readline()\n",
    "        convergedLine = fd.readline().rstrip()\n",
    "        #print(line)\n",
    "        hasConverged = convergedLine.split(\" \")[1] == \"True\"\n",
    "        if hasConverged: nr_conv+=1\n",
    "        else: notConverged.append(int(pre))\n",
    "print(nr_conv)\n",
    "print(notConverged)"
   ]
  },
  {
   "cell_type": "code",
   "execution_count": null,
   "metadata": {},
   "outputs": [],
   "source": [
    "#Create file that contains only the last strategy of each player\n",
    "file = 0\n",
    "nr_conv=0\n",
    "notConverged = []\n",
    "for i in range(1000):\n",
    "    if i<10:\n",
    "        pre=\"00\"+str(i)\n",
    "    elif i<100:\n",
    "        pre=\"0\"+str(i)\n",
    "    else:\n",
    "        pre=str(i)\n",
    "        \n",
    "    with open(folder + \"%s.strats\" % pre) as fd:\n",
    "        lines = []\n",
    "        for line in fd.readlines():\n",
    "            lines.append(line.rstrip())\n",
    "        f=open(folder + \"%s.eqStrats\" % pre,\"w+\")\n",
    "        f.write(lines[-7]+\"\\n\")\n",
    "        f.write(lines[-6]+\"\\n\")\n",
    "        f.write(lines[-5]+\"\\n\")\n",
    "        f.write(lines[-4]+\"\\n\")\n",
    "        f.write(lines[-3]+\"\\n\")\n",
    "        f.write(lines[-2]+\"\\n\")\n",
    "        f.write(lines[-1])\n",
    "        f.close"
   ]
  },
  {
   "cell_type": "code",
   "execution_count": 10,
   "metadata": {},
   "outputs": [],
   "source": [
    "#delete files that are in the notConverged array\n",
    "for i in notConverged:\n",
    "    if i<10:\n",
    "        name = \"00\" + str(i)\n",
    "    elif i<100:\n",
    "        name = \"0\" + str(i)\n",
    "    else:\n",
    "        name = str(i)\n",
    "    file = folder + name\n",
    "    os.remove(file+\".log\")\n",
    "    os.remove(file+\".strats\")\n",
    "#    os.remove(file+\".eqStrats\")"
   ]
  },
  {
   "cell_type": "code",
   "execution_count": null,
   "metadata": {},
   "outputs": [],
   "source": []
  },
  {
   "cell_type": "code",
   "execution_count": null,
   "metadata": {},
   "outputs": [],
   "source": []
  },
  {
   "cell_type": "code",
   "execution_count": null,
   "metadata": {},
   "outputs": [],
   "source": []
  },
  {
   "cell_type": "code",
   "execution_count": null,
   "metadata": {},
   "outputs": [],
   "source": []
  },
  {
   "cell_type": "code",
   "execution_count": null,
   "metadata": {},
   "outputs": [],
   "source": []
  }
 ],
 "metadata": {
  "kernelspec": {
   "display_name": "Python 3",
   "language": "python",
   "name": "python3"
  },
  "language_info": {
   "codemirror_mode": {
    "name": "ipython",
    "version": 3
   },
   "file_extension": ".py",
   "mimetype": "text/x-python",
   "name": "python",
   "nbconvert_exporter": "python",
   "pygments_lexer": "ipython3",
   "version": "3.7.4"
  }
 },
 "nbformat": 4,
 "nbformat_minor": 4
}
